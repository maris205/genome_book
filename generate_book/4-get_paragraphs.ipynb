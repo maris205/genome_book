{
 "cells": [
  {
   "cell_type": "code",
   "execution_count": 1,
   "id": "69109b9d-c5f3-4de2-a748-b2cb74f880f1",
   "metadata": {},
   "outputs": [
    {
     "name": "stdout",
     "output_type": "stream",
     "text": [
      "https://hf-mirror.com\n"
     ]
    }
   ],
   "source": [
    "# import subprocess\n",
    "# import os\n",
    "# import json\n",
    "\n",
    "# result = subprocess.run('bash -c \"source /etc/network_turbo && env | grep proxy\"', shell=True, capture_output=True, text=True)\n",
    "# output = result.stdout\n",
    "# for line in output.splitlines():\n",
    "#     if '=' in line:\n",
    "#         var, value = line.split('=', 1)\n",
    "#         os.environ[var] = value\n",
    "\n",
    "import os\n",
    "\n",
    "# 设置环境变量\n",
    "os.environ['HF_ENDPOINT'] = 'https://hf-mirror.com'\n",
    "\n",
    "# 打印环境变量以确认设置成功\n",
    "print(os.environ.get('HF_ENDPOINT'))"
   ]
  },
  {
   "cell_type": "code",
   "execution_count": 32,
   "id": "f29074d5-5b8d-408a-b24a-da794563be49",
   "metadata": {},
   "outputs": [],
   "source": [
    "from datasets import load_dataset\n",
    "from transformers import GPT2Tokenizer, AutoTokenizer, GPT2LMHeadModel, Trainer, TrainingArguments, DataCollatorForLanguageModeling,AutoModel,AutoModelForCausalLM\n",
    "import math"
   ]
  },
  {
   "cell_type": "code",
   "execution_count": 3,
   "id": "cf15f676-f1b7-4450-a197-994513da4cc6",
   "metadata": {},
   "outputs": [
    {
     "data": {
      "text/plain": [
       "GPT2LMHeadModel(\n",
       "  (transformer): GPT2Model(\n",
       "    (wte): Embedding(100001, 768)\n",
       "    (wpe): Embedding(256, 768)\n",
       "    (drop): Dropout(p=0.1, inplace=False)\n",
       "    (h): ModuleList(\n",
       "      (0-11): 12 x GPT2Block(\n",
       "        (ln_1): LayerNorm((768,), eps=1e-05, elementwise_affine=True)\n",
       "        (attn): GPT2SdpaAttention(\n",
       "          (c_attn): Conv1D(nf=2304, nx=768)\n",
       "          (c_proj): Conv1D(nf=768, nx=768)\n",
       "          (attn_dropout): Dropout(p=0.1, inplace=False)\n",
       "          (resid_dropout): Dropout(p=0.1, inplace=False)\n",
       "        )\n",
       "        (ln_2): LayerNorm((768,), eps=1e-05, elementwise_affine=True)\n",
       "        (mlp): GPT2MLP(\n",
       "          (c_fc): Conv1D(nf=3072, nx=768)\n",
       "          (c_proj): Conv1D(nf=768, nx=3072)\n",
       "          (act): NewGELUActivation()\n",
       "          (dropout): Dropout(p=0.1, inplace=False)\n",
       "        )\n",
       "      )\n",
       "    )\n",
       "    (ln_f): LayerNorm((768,), eps=1e-05, elementwise_affine=True)\n",
       "  )\n",
       "  (lm_head): Linear(in_features=768, out_features=100001, bias=False)\n",
       ")"
      ]
     },
     "execution_count": 3,
     "metadata": {},
     "output_type": "execute_result"
    }
   ],
   "source": [
    "# 加载模型和分词器\n",
    "tokenizer = AutoTokenizer.from_pretrained(\"dnagpt/gene_eng_gpt2_para_seg\")\n",
    "model = GPT2LMHeadModel.from_pretrained(\"dnagpt/gene_eng_gpt2_para_seg\")\n",
    "model.eval()  # 设置为评估模式"
   ]
  },
  {
   "cell_type": "code",
   "execution_count": 4,
   "id": "40f3e8f9-6589-4d0c-8d8d-2dfd4da007e5",
   "metadata": {},
   "outputs": [],
   "source": [
    "# 12. 使用微调后的模型对长文本进行段落分割\n",
    "def split_text_sliding_window(text, tokenizer, max_length=256, stride=64):\n",
    "    \"\"\"\n",
    "    使用滑动窗口将超长文本切分为多个段，每段长度不超过 max_length。\n",
    "\n",
    "    参数:\n",
    "        text (str): 超长输入文本。\n",
    "        tokenizer (PreTrainedTokenizer): 分词器。\n",
    "        max_length (int): 分段的最大长度。\n",
    "        stride (int): 滑动窗口的步长，控制段之间的重叠区域。\n",
    "\n",
    "    返回:\n",
    "        List[str]: 分割后的文本段。\n",
    "    \"\"\"\n",
    "    # 分词\n",
    "    tokenized_text = tokenizer.encode(text, add_special_tokens=False)\n",
    "\n",
    "    # 滑动窗口分段\n",
    "    chunks = []\n",
    "    start = 0\n",
    "    while start < len(tokenized_text):\n",
    "        end = min(start + max_length, len(tokenized_text))\n",
    "        chunks.append(tokenizer.decode(tokenized_text[start:end], skip_special_tokens=True))\n",
    "        start += max_length - stride  # 移动窗口，保留 overlap\n",
    "\n",
    "    return chunks\n",
    "\n",
    "def segment_text(text, top_k=5, max_length=256, stride=64):\n",
    "    \"\"\"\n",
    "    使用微调后的 GPT-2 模型对输入长文本进行段落分割，动态调整阈值。\n",
    "\n",
    "    参数:\n",
    "        text (str): 输入长文本。\n",
    "        model_path (str): 微调模型的路径。\n",
    "        top_k (int): 动态阈值计算时，选择预测分布中前 K 个概率的平均值。\n",
    "        max_length (int): 模型最大输入长度。\n",
    "        stride (int): 滑动窗口的步长。\n",
    "\n",
    "    返回:\n",
    "        str: 带有段落标记 <p_end> 的分割文本。\n",
    "    \"\"\"\n",
    "    import torch\n",
    "    text = text.replace(\".\", \"\") #训练的时候去掉了.,防止干扰\n",
    "\n",
    "\n",
    "    # 分段文本\n",
    "    chunks = split_text_sliding_window(text, tokenizer, max_length, stride)\n",
    "\n",
    "    # 对每段文本进行推理\n",
    "    results = []\n",
    "    for chunk in chunks:\n",
    "        inputs = tokenizer(chunk, return_tensors=\"pt\", truncation=True, max_length=max_length)\n",
    "        with torch.no_grad():\n",
    "            outputs = model(inputs[\"input_ids\"])\n",
    "            logits = outputs.logits  # [batch_size, seq_length, vocab_size]\n",
    "\n",
    "        # 找到 <p_end> 的 token ID\n",
    "        p_end_id = tokenizer.convert_tokens_to_ids(\"<p_end>\")\n",
    "\n",
    "        # 计算 <p_end> 的概率分布\n",
    "        probabilities = torch.softmax(logits, dim=-1)  # 转为概率分布\n",
    "        p_end_probs = probabilities[0, :, p_end_id]  # [seq_length]\n",
    "\n",
    "        # 动态计算阈值：取前 top_k 概率的平均值\n",
    "        sorted_probs, _ = torch.sort(p_end_probs, descending=True)\n",
    "        threshold = sorted_probs[:top_k].mean().item()\n",
    "\n",
    "        # 根据动态阈值插入段落标记\n",
    "        tokens = inputs[\"input_ids\"][0].tolist()\n",
    "        segmented_tokens = []\n",
    "        for i, token in enumerate(tokens):\n",
    "            segmented_tokens.append(token)\n",
    "            if p_end_probs[i] > threshold:\n",
    "                segmented_tokens.append(p_end_id)\n",
    "\n",
    "        # 解码为文本\n",
    "        segmented_text = tokenizer.decode(segmented_tokens, skip_special_tokens=False)\n",
    "        results.append(segmented_text)\n",
    "\n",
    "    # 合并结果\n",
    "    return \" \".join(results)"
   ]
  },
  {
   "cell_type": "code",
   "execution_count": 5,
   "id": "faab54cb-a198-4614-9d4b-417bc6c57bc5",
   "metadata": {},
   "outputs": [
    {
     "name": "stdout",
     "output_type": "stream",
     "text": [
      "Segmented Text:\n",
      "Mult iling ual transfer ability , which reflects how well models fine - tuned on one source language can be applied to other languages , has been well studied in mult iling ual pre - trained models However , the existence of such capability transfer between natural language and gene sequences / languages remains under explored This study addresses this gap by drawing inspiration from the sentence - pair classification task used for evaluating sentence similarity in natural language We constructed two analog ous tasks : DNA - pair classification ( DNA sequence similarity ) and DNA - protein - pair classification ( gene coding determination ) These tasks were designed to validate the transfer ability of capabilities from natural language to gene sequences Even a small - scale pre - trained model like GP T - 2 - small , which was pre - trained on English , achieved an accuracy of 78 % on the DNA - pair classification task after being fine - tuned on English sentence - pair classification data ( X TRE ME P <p_end> AWS - X <p_end> ) While training a BER T model on mult iling ual text , the precision reached 89 % On the more complex DNA - protein - pair classification task , however , the model ' s output was barely distinguish able from random output Exper imental validation has confirmed that the transfer of capabilities from natural language to biological language is unequivoc ally present Building on this foundation , we have also investigated the ual <p_end> text , the precision reached 89 % On <p_end> the more complex DNA - protein - pair classification task , however , the model ' s output was barely distinguish able from random output Exper imental validation has confirmed that the transfer of capabilities from natural language to biological language is unequivoc ally present Building on this foundation , we have also investigated the impact of model parameter scale and pre - training on this capability transfer We provide recommendations for facilit ating the transfer of capabilities from natural language to genetic language , as well as new approaches for conducting biological research based on this capability This study offers an intriguing new perspective on exploring the relationship between natural language and genetic language\n"
     ]
    }
   ],
   "source": [
    "# 示例输入长文本\n",
    "input_text = \"Multilingual transfer ability, which reflects how well models fine-tuned on one source language can be applied to other languages, has been well studied in multilingual pre-trained models. However, the existence of such capability transfer between natural language and gene sequences/languages remains under explored.This study addresses this gap by drawing inspiration from the sentence-pair classification task used for evaluating sentence similarity in natural language. We constructed two analogous tasks: DNA-pair classification(DNA sequence similarity) and DNA-protein-pair classification(gene coding determination). These tasks were designed to validate the transferability of capabilities from natural language to gene sequences. Even a small-scale pre-trained model like GPT-2-small, which was pre-trained on English, achieved an accuracy of 78% on the DNA-pair classification task after being fine-tuned on English sentence-pair classification data(XTREME PAWS-X).  While training a BERT model on multilingual text, the precision reached 89%. On the more complex DNA-protein-pair classification task, however, the model's output was barely distinguishable from random output.Experimental validation has confirmed that the transfer of capabilities from natural language to biological language is unequivocally present. Building on this foundation, we have also investigated the impact of model parameter scale and pre-training on this capability transfer. We provide recommendations for facilitating the transfer of capabilities from natural language to genetic language,as well as new approaches for conducting biological research based on this capability.This study offers an intriguing new perspective on exploring the relationship between natural language and genetic language.\"\n",
    "\n",
    "# 调用分段函数\n",
    "segmented_output = segment_text(input_text)\n",
    "print(\"Segmented Text:\")\n",
    "print(segmented_output)"
   ]
  },
  {
   "cell_type": "code",
   "execution_count": 7,
   "id": "dbfebe3d-9d31-4f0b-b184-997766faddde",
   "metadata": {},
   "outputs": [],
   "source": [
    "# 示例输入长文本\n",
    "input_text = open(\"parts/NC_000001.11_chapter_1.fna\",\"r\").read()\n",
    "# 调用分段函数\n",
    "segmented_output = segment_text(input_text)"
   ]
  },
  {
   "cell_type": "code",
   "execution_count": 15,
   "id": "8aca2e3d-e979-4eab-afd0-35add5fed090",
   "metadata": {},
   "outputs": [],
   "source": [
    "def merge_short_paragraphs(para_list, min_tokens=20):\n",
    "    \"\"\"\n",
    "    合并段落列表中长度小于 min_tokens 的段落与前一个段落。\n",
    "    \n",
    "    Args:\n",
    "        para_list (list of str): 分段后的段落列表。\n",
    "        min_tokens (int): 最小 tokens 数，小于此数值的段落会被合并。\n",
    "\n",
    "    Returns:\n",
    "        list of str: 合并后的段落列表。\n",
    "    \"\"\"\n",
    "    merged_paragraphs = []\n",
    "    for para in para_list:\n",
    "        tokens = para.split()  # 将段落按空格分割成 tokens\n",
    "        if len(tokens) < min_tokens:\n",
    "            # 如果当前段落过短，合并到上一个段落\n",
    "            if merged_paragraphs:\n",
    "                merged_paragraphs[-1] += \" \" + para\n",
    "            else:\n",
    "                # 如果没有上一个段落（即第一个段落过短），直接添加\n",
    "                merged_paragraphs.append(para)\n",
    "        else:\n",
    "            # 正常添加当前段落\n",
    "            merged_paragraphs.append(para)\n",
    "    return merged_paragraphs"
   ]
  },
  {
   "cell_type": "code",
   "execution_count": 8,
   "id": "d1598c94-8d32-499e-8940-c6a6de48d6b7",
   "metadata": {},
   "outputs": [
    {
     "data": {
      "text/plain": [
       "15941342"
      ]
     },
     "execution_count": 8,
     "metadata": {},
     "output_type": "execute_result"
    }
   ],
   "source": [
    "len(segmented_output)"
   ]
  },
  {
   "cell_type": "code",
   "execution_count": 10,
   "id": "0a4e10bb-2bd0-4359-a1ba-78796ec03c28",
   "metadata": {},
   "outputs": [
    {
     "data": {
      "text/plain": [
       "18675"
      ]
     },
     "execution_count": 10,
     "metadata": {},
     "output_type": "execute_result"
    }
   ],
   "source": [
    "para_list = segmented_output.split(\"<p_end>\")\n",
    "len(para_list)"
   ]
  },
  {
   "cell_type": "code",
   "execution_count": 11,
   "id": "1e231689-2bcb-4908-a968-39298a93a37a",
   "metadata": {},
   "outputs": [],
   "source": [
    "para_token_num_list = []\n",
    "for item in para_list:\n",
    "    token_list = item.split()\n",
    "    para_token_num_list.append( len(token_list) )"
   ]
  },
  {
   "cell_type": "code",
   "execution_count": 12,
   "id": "b54be8b9-5409-4056-97d2-2e4cde18f509",
   "metadata": {},
   "outputs": [
    {
     "name": "stdout",
     "output_type": "stream",
     "text": [
      "dna para mean token lenght 131.53676037483265 min token length 1 max token length 508\n"
     ]
    }
   ],
   "source": [
    "para_mean_len = sum(para_token_num_list)/len(para_token_num_list)\n",
    "para_min_len  = min(para_token_num_list)\n",
    "para_max_len = max(para_token_num_list)\n",
    "\n",
    "\n",
    "print(\"dna para\", \"mean token lenght\", para_mean_len, \"min token length\", para_min_len, \"max token length\", para_max_len)"
   ]
  },
  {
   "cell_type": "code",
   "execution_count": 13,
   "id": "4f4bb662-1d4a-4cee-a49f-a026f210999b",
   "metadata": {},
   "outputs": [
    {
     "data": {
      "image/png": "[encoded data removed]",
      "text/plain": [
       "<Figure size 1000x600 with 1 Axes>"
      ]
     },
     "metadata": {},
     "output_type": "display_data"
    }
   ],
   "source": [
    "#统计图\n",
    "import matplotlib.pyplot as plt\n",
    "import seaborn as sns\n",
    "import numpy as np\n",
    "\n",
    "# 假设这是您的 token_len_list\n",
    "\n",
    "# 设置画布大小\n",
    "plt.figure(figsize=(10, 6))\n",
    "\n",
    "# 使用 seaborn 生成直方图\n",
    "sns.histplot(para_token_num_list, bins=30, kde=False, color=\"skyblue\", edgecolor=\"black\")\n",
    "\n",
    "# 添加标题和标签\n",
    "plt.title(\"Distribution of Token Lengths\")\n",
    "plt.xlabel(\"Token Length\")\n",
    "plt.ylabel(\"Frequency\")\n",
    "\n",
    "# 显示平均值线\n",
    "mean_value = np.mean(para_token_num_list)\n",
    "plt.axvline(mean_value, color='red', linestyle='dashed', linewidth=2)\n",
    "plt.text(mean_value + 2, plt.ylim()[1]*0.9, f'Mean: {mean_value:.2f}', color='red')\n",
    "\n",
    "# 显示中位数线\n",
    "median_value = np.median(para_token_num_list)\n",
    "plt.axvline(median_value, color='green', linestyle='dashed', linewidth=2)\n",
    "plt.text(median_value - 10, plt.ylim()[1]*0.8, f'Median: {median_value:.2f}', color='green')\n",
    "\n",
    "# 显示图形\n",
    "plt.show()"
   ]
  },
  {
   "cell_type": "code",
   "execution_count": 16,
   "id": "a6a8dc5b-2442-4bbe-b83c-db972c6352cd",
   "metadata": {},
   "outputs": [],
   "source": [
    "para_list_new = merge_short_paragraphs(para_list, min_tokens=20)"
   ]
  },
  {
   "cell_type": "code",
   "execution_count": 17,
   "id": "f6108e52-e13d-4305-846c-eb1849cbf4fd",
   "metadata": {},
   "outputs": [],
   "source": [
    "para_token_num_list = []\n",
    "for item in para_list_new:\n",
    "    token_list = item.split()\n",
    "    para_token_num_list.append( len(token_list) )"
   ]
  },
  {
   "cell_type": "code",
   "execution_count": 18,
   "id": "ec124aab-eb71-4f0f-b5f6-3f3d3f6f885d",
   "metadata": {},
   "outputs": [
    {
     "name": "stdout",
     "output_type": "stream",
     "text": [
      "dna para mean token lenght 161.20547315920726 min token length 3 max token length 515\n"
     ]
    }
   ],
   "source": [
    "para_mean_len = sum(para_token_num_list)/len(para_token_num_list)\n",
    "para_min_len  = min(para_token_num_list)\n",
    "para_max_len = max(para_token_num_list)\n",
    "\n",
    "\n",
    "print(\"dna para\", \"mean token lenght\", para_mean_len, \"min token length\", para_min_len, \"max token length\", para_max_len)"
   ]
  },
  {
   "cell_type": "code",
   "execution_count": 19,
   "id": "2062c63c-66fd-45f6-be97-1c51100a4e67",
   "metadata": {},
   "outputs": [
    {
     "data": {
      "image/png": "[encoded data removed]",
      "text/plain": [
       "<Figure size 1000x600 with 1 Axes>"
      ]
     },
     "metadata": {},
     "output_type": "display_data"
    }
   ],
   "source": [
    "#统计图\n",
    "import matplotlib.pyplot as plt\n",
    "import seaborn as sns\n",
    "import numpy as np\n",
    "\n",
    "# 假设这是您的 token_len_list\n",
    "\n",
    "# 设置画布大小\n",
    "plt.figure(figsize=(10, 6))\n",
    "\n",
    "# 使用 seaborn 生成直方图\n",
    "sns.histplot(para_token_num_list, bins=30, kde=False, color=\"skyblue\", edgecolor=\"black\")\n",
    "\n",
    "# 添加标题和标签\n",
    "plt.title(\"Distribution of Token Lengths\")\n",
    "plt.xlabel(\"Token Length\")\n",
    "plt.ylabel(\"Frequency\")\n",
    "\n",
    "# 显示平均值线\n",
    "mean_value = np.mean(para_token_num_list)\n",
    "plt.axvline(mean_value, color='red', linestyle='dashed', linewidth=2)\n",
    "plt.text(mean_value + 2, plt.ylim()[1]*0.9, f'Mean: {mean_value:.2f}', color='red')\n",
    "\n",
    "# 显示中位数线\n",
    "median_value = np.median(para_token_num_list)\n",
    "plt.axvline(median_value, color='green', linestyle='dashed', linewidth=2)\n",
    "plt.text(median_value - 10, plt.ylim()[1]*0.8, f'Median: {median_value:.2f}', color='green')\n",
    "\n",
    "# 显示图形\n",
    "plt.show()"
   ]
  },
  {
   "cell_type": "code",
   "execution_count": 20,
   "id": "1fa95fd5-b53a-4cc1-a90c-15494fb2f1fc",
   "metadata": {},
   "outputs": [
    {
     "data": {
      "text/plain": [
       "15238"
      ]
     },
     "execution_count": 20,
     "metadata": {},
     "output_type": "execute_result"
    }
   ],
   "source": [
    "len(para_list_new)"
   ]
  },
  {
   "cell_type": "code",
   "execution_count": 56,
   "id": "d17f0475-0454-4400-9699-4cf68d7082c3",
   "metadata": {},
   "outputs": [
    {
     "name": "stdout",
     "output_type": "stream",
     "text": [
      " ACTCATGG ACT TTAATTTT ACATT TATG AAAAGC TACAA ATATTAGAA TAAG TAAAATAC TGCC TGGAGGC TAAAGC ATATTTTG ATC ACTTATT CCC TAATTC TTTT AGAAG AGAAC TCACC TGTCGG TT AGC TGAACC ACTGCC AGTG ATATCC AAC TATAC ATTCAA TCCCACC ATACC TCATTATC A CACC TATTC ACTC ACAAGC TTAA ACTCTT AAC TTTTCTCC ACATA TCAGTGAC TATTTCC TACAGC TTTTCTTTT ACTTTCC ATGTTTGC AGTGACAA TATAC ATAAACAG TGTATGAA A ACTCAAG TAAAA TCTAC TCTC TCAGG TGTTC ATAA TGTATCAA TGTATATT GC TTTAAGC C \n"
     ]
    }
   ],
   "source": [
    "print(para_list_new[101])"
   ]
  },
  {
   "cell_type": "code",
   "execution_count": 58,
   "id": "6a57cfea-a31b-4b29-b01b-aebc8d63cdc5",
   "metadata": {},
   "outputs": [],
   "source": [
    "#写入文件\n",
    "p_base_file = open(\"NC_000001.11_chapter_1.fna.p1\",\"w\")\n",
    "for line in para_list_new:\n",
    "    line = line.strip()\n",
    "    p_base_file.write(line+\"\\n\")\n",
    "p_base_file.close()"
   ]
  },
  {
   "cell_type": "code",
   "execution_count": null,
   "id": "d5da608c-65d8-4284-baa5-135315f64f6c",
   "metadata": {},
   "outputs": [],
   "source": []
  },
  {
   "cell_type": "code",
   "execution_count": null,
   "id": "3f68a8aa-d361-4150-84a9-1266b6a7ad80",
   "metadata": {},
   "outputs": [],
   "source": []
  }
 ],
 "metadata": {
  "kernelspec": {
   "display_name": "Python 3 (ipykernel)",
   "language": "python",
   "name": "python3"
  },
  "language_info": {
   "codemirror_mode": {
    "name": "ipython",
    "version": 3
   },
   "file_extension": ".py",
   "mimetype": "text/x-python",
   "name": "python",
   "nbconvert_exporter": "python",
   "pygments_lexer": "ipython3",
   "version": "3.11.9"
  }
 },
 "nbformat": 4,
 "nbformat_minor": 5
}
