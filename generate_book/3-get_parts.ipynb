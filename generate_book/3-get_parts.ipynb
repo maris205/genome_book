{
 "cells": [
  {
   "cell_type": "code",
   "execution_count": 1,
   "id": "0180639e-12f7-4175-b4b2-c38d6044be0f",
   "metadata": {},
   "outputs": [
    {
     "name": "stdout",
     "output_type": "stream",
     "text": [
      "Chromosome 1 split into chapters of 10000000 bases in folder: chapters/\n"
     ]
    }
   ],
   "source": [
    "from Bio import SeqIO\n",
    "import os\n",
    "\n",
    "# 输入文件和输出文件夹\n",
    "input_file = \"chromosome_1.fna\"\n",
    "output_folder = \"parts/\"\n",
    "chapter_size = 10_000_000  # 每章 10 Mb\n",
    "\n",
    "# 创建输出文件夹\n",
    "os.makedirs(output_folder, exist_ok=True)\n",
    "\n",
    "# 读取序列并分章节\n",
    "with open(input_file, \"r\") as infile:\n",
    "    for record in SeqIO.parse(infile, \"fasta\"):\n",
    "        sequence = record.seq.upper()  # 转换为大写\n",
    "        for i in range(0, len(sequence), chapter_size):\n",
    "            chapter_seq = sequence[i:i + chapter_size]\n",
    "            chapter_name = f\"{record.id}_chapter_{i // chapter_size + 1}.fna\"\n",
    "            chapter_path = os.path.join(output_folder, chapter_name)\n",
    "            \n",
    "            # 创建新的记录并写入文件\n",
    "            chapter_record = record[i:i + chapter_size]\n",
    "            chapter_record.seq = chapter_seq\n",
    "            with open(chapter_path, \"w\") as outfile:\n",
    "                SeqIO.write(chapter_record, outfile, \"fasta\")\n",
    "\n",
    "print(f\"Chromosome 1 split into chapters of {chapter_size} bases in folder: {output_folder}\")"
   ]
  },
  {
   "cell_type": "code",
   "execution_count": null,
   "id": "bfa80fa9-fcb3-4dbb-b64c-8374bbb8a1b2",
   "metadata": {},
   "outputs": [],
   "source": []
  }
 ],
 "metadata": {
  "kernelspec": {
   "display_name": "Python 3 (ipykernel)",
   "language": "python",
   "name": "python3"
  },
  "language_info": {
   "codemirror_mode": {
    "name": "ipython",
    "version": 3
   },
   "file_extension": ".py",
   "mimetype": "text/x-python",
   "name": "python",
   "nbconvert_exporter": "python",
   "pygments_lexer": "ipython3",
   "version": "3.11.9"
  }
 },
 "nbformat": 4,
 "nbformat_minor": 5
}
