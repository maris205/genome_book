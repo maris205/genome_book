{
 "cells": [
  {
   "cell_type": "markdown",
   "id": "62017d43-eaa1-4db9-b8a0-ed055952cb89",
   "metadata": {},
   "source": [
    "# install pandoc\n",
    "\n",
    "https://github.com/jgm/pandoc/releases/tag/3.6.2\n",
    "\n",
    "wget https://github.com/jgm/pandoc/releases/download/3.6.2/pandoc-3.6.2-linux-amd64.tar.gz\n",
    "\n",
    "extract it "
   ]
  },
  {
   "cell_type": "markdown",
   "id": "5ec4ca64-3d45-4a5a-81df-37c190281d12",
   "metadata": {},
   "source": [
    "# install plugin\n",
    "sudo apt install texlive-full"
   ]
  },
  {
   "cell_type": "markdown",
   "id": "50dab2c2-e3d8-411c-a682-b8ec6b1dc0cf",
   "metadata": {},
   "source": [
    "# run convert\n",
    "\n",
    "pandoc chromosome_1_part_1_test.md -o chromosome_1_part_1_test.pdf"
   ]
  }
 ],
 "metadata": {
  "kernelspec": {
   "display_name": "Python 3 (ipykernel)",
   "language": "python",
   "name": "python3"
  },
  "language_info": {
   "codemirror_mode": {
    "name": "ipython",
    "version": 3
   },
   "file_extension": ".py",
   "mimetype": "text/x-python",
   "name": "python",
   "nbconvert_exporter": "python",
   "pygments_lexer": "ipython3",
   "version": "3.11.9"
  }
 },
 "nbformat": 4,
 "nbformat_minor": 5
}
