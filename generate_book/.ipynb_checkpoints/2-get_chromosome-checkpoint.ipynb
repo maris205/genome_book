{
 "cells": [
  {
   "cell_type": "code",
   "execution_count": 1,
   "id": "0b4786ea-c06d-4594-a09e-eeed5343dfd4",
   "metadata": {},
   "outputs": [
    {
     "name": "stdout",
     "output_type": "stream",
     "text": [
      "Extracted: NC_000001.11\n"
     ]
    }
   ],
   "source": [
    "from Bio import SeqIO\n",
    "\n",
    "# 输入文件\n",
    "input_file = \"human2.fna\"\n",
    "output_file = \"chromosome_1.fna\"\n",
    "\n",
    "# 提取染色体 1 的序列\n",
    "with open(input_file, \"r\") as infile, open(output_file, \"w\") as outfile:\n",
    "    for record in SeqIO.parse(infile, \"fasta\"):\n",
    "        if record.id == \"NC_000001.11\":  # 根据染色体 1 的标识符筛选\n",
    "            SeqIO.write(record, outfile, \"fasta\")\n",
    "            print(f\"Extracted: {record.id}\")"
   ]
  },
  {
   "cell_type": "code",
   "execution_count": null,
   "id": "231de00d-f24c-4f5a-97ff-58d3217592e7",
   "metadata": {},
   "outputs": [],
   "source": []
  }
 ],
 "metadata": {
  "kernelspec": {
   "display_name": "Python 3 (ipykernel)",
   "language": "python",
   "name": "python3"
  },
  "language_info": {
   "codemirror_mode": {
    "name": "ipython",
    "version": 3
   },
   "file_extension": ".py",
   "mimetype": "text/x-python",
   "name": "python",
   "nbconvert_exporter": "python",
   "pygments_lexer": "ipython3",
   "version": "3.11.9"
  }
 },
 "nbformat": 4,
 "nbformat_minor": 5
}
