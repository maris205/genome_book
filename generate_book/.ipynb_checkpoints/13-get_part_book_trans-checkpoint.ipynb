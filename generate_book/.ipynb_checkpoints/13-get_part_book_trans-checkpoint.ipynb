{
 "cells": [
  {
   "cell_type": "code",
   "execution_count": 1,
   "id": "41d975ba-6d2b-4f8c-9912-8f5f0cc3a226",
   "metadata": {},
   "outputs": [],
   "source": [
    "import json\n",
    "#读取第1层的数据\n",
    "json_str = open(\"p1_cluster_data_with_title_sentence.json\",\"r\").read()\n",
    "p1_cluster_data_with_title = json.loads(json_str)"
   ]
  },
  {
   "cell_type": "code",
   "execution_count": 2,
   "id": "c8d573e0-1065-42c5-8590-64a8dc2ff649",
   "metadata": {},
   "outputs": [],
   "source": [
    "import json\n",
    "#读取第2层的数据\n",
    "json_str = open(\"p2_cluster_data_with_title.json\",\"r\").read()\n",
    "p2_cluster_data_with_title = json.loads(json_str)"
   ]
  },
  {
   "cell_type": "code",
   "execution_count": 4,
   "id": "b4d08682-28bb-4a9d-b0bf-59233c5cbc1e",
   "metadata": {},
   "outputs": [
    {
     "data": {
      "text/plain": [
       "'Carneg1'"
      ]
     },
     "execution_count": 4,
     "metadata": {},
     "output_type": "execute_result"
    }
   ],
   "source": [
    "import json\n",
    "#读取词典\n",
    "json_str = open(\"dna_eng_dict_unique.json\",\"r\").read()\n",
    "dna_eng_dict_unique = json.loads(json_str)\n",
    "dna_eng_dict_unique[\"ATTAAAGAA\"]"
   ]
  },
  {
   "cell_type": "code",
   "execution_count": 5,
   "id": "4761733b-3422-4744-adc5-1c4b56fbe770",
   "metadata": {},
   "outputs": [],
   "source": [
    "#输入分词后的dna序列，返回英文序列\n",
    "def translate_dna(dna):\n",
    "    dna_word_list = dna.split()\n",
    "    eng_word_list = []\n",
    "    for dna_word in dna_word_list:\n",
    "        #如果字典有就翻译。没有保持b\n",
    "        if dna_word in dna_eng_dict_unique:\n",
    "            eng_word = dna_eng_dict_unique[dna_word]\n",
    "        else:\n",
    "            eng_word = dna_word \n",
    "\n",
    "        eng_word_list.append(eng_word)\n",
    "\n",
    "    return \" \".join(eng_word_list)"
   ]
  },
  {
   "cell_type": "code",
   "execution_count": 6,
   "id": "3358ba59-88cf-4fd4-9e51-66f129e09a01",
   "metadata": {},
   "outputs": [
    {
     "data": {
      "text/plain": [
       "'NN NN NN NN NN NN NN . gorge153 gorge153 gorge153 gorge153 urbs16 atican186 gorge153 mouths36 pavement132 gorge153 northwest66 gorge153 gorge153 pavement132 urbs16 ournal5 unrest134 environments85 gorge153 pavement132 olia21 olia21 olia21'"
      ]
     },
     "execution_count": 6,
     "metadata": {},
     "output_type": "execute_result"
    }
   ],
   "source": [
    "dna = \" NN NN NN NN NN NN NN . TAACCCTAACCCTAACCCTAACCC TAACCCTAACCCTAACCCTAACCC TAACCCTAACCCTAACCCTAACCC TAACCCTAACCCTAACCCTAACCC TAACCCTAACCC AACCC TAACCCTAACCCTAACCCTAACCC TAACCC TAACCCC TAACCCTAACCCTAACCCTAACCC TAACC TAACCCTAACCCTAACCCTAACCC TAACCCTAACCCTAACCCTAACCC TAACCCC TAACCCTAACCC TAA ACCCTAA ACCC TAACCCTAACCCTAACCCTAACCC TAACCCC AACCCC AACCCC AACCCC\"\n",
    "translate_dna(dna)"
   ]
  },
  {
   "cell_type": "code",
   "execution_count": 8,
   "id": "fbb4f922-2823-4fe8-a922-d79319bc46b1",
   "metadata": {},
   "outputs": [],
   "source": [
    "def print_chapter_section_list(chapter_section_list, markdown):\n",
    "    section_index = 1\n",
    "    for section in chapter_section_list:\n",
    "        section_title = section[\"title\"]\n",
    "        section_title_en = translate_dna(section_title)\n",
    "        section_level = 2\n",
    "        #print( f\"{'#' * section_level} {section_title}\\n\\n\")\n",
    "        markdown +=  f\"{'#' * section_level} SECTION-{section_index} {section_title_en}\\n\\n\"\n",
    "\n",
    "        #输出每一个段落\n",
    "        para_sentence_list = section[\"para_sentence_list\"]\n",
    "        for para in para_sentence_list:\n",
    "            #print( f\"{para}\\n\\n\")  \n",
    "            para_en = translate_dna(para)\n",
    "            markdown +=  f\"{para_en}\\n\\n\"\n",
    "\n",
    "        section_index = section_index + 1\n",
    "\n",
    "    return markdown"
   ]
  },
  {
   "cell_type": "code",
   "execution_count": 13,
   "id": "ce256b2e-4915-4e17-9bd5-07d92af93c02",
   "metadata": {},
   "outputs": [],
   "source": [
    "markdown = \"\"\n",
    "\n",
    "chapter_index = 1\n",
    "\n",
    "for item in p2_cluster_data_with_title:\n",
    "    chapter_title = item[\"title\"]\n",
    "    chapter_level = 1\n",
    "    #print( f\"{'#' * chapter_level} {chapter_title}\\n\\n\")\n",
    "\n",
    "    chapter_title_en = translate_dna(chapter_title)\n",
    "    \n",
    "    markdown += f\"{'#' * chapter_level} CHAPTER-{chapter_index} {chapter_title_en}\\n\\n\"\n",
    "    \n",
    "    chapter_section_index_list = item[\"para_list\"]\n",
    "    chapter_section_list = [p1_cluster_data_with_title[index] for index in chapter_section_index_list]\n",
    "\n",
    "    markdown = print_chapter_section_list(chapter_section_list, markdown)\n",
    "\n",
    "    chapter_index = chapter_index + 1\n",
    "    #break\n",
    "\n",
    "#print(markdown)"
   ]
  },
  {
   "cell_type": "code",
   "execution_count": 14,
   "id": "32be4c77-71a2-4906-b924-a70c5a4b1999",
   "metadata": {},
   "outputs": [],
   "source": [
    "#写入文件\n",
    "filename = \"chromosome_1_part_1_en.md\"\n",
    "data_file = open(filename, \"w\")\n",
    "data_file.write(markdown)\n",
    "data_file.close()"
   ]
  },
  {
   "cell_type": "code",
   "execution_count": null,
   "id": "7d28430d-6a8a-4a3f-bc19-85e36b8252e4",
   "metadata": {},
   "outputs": [],
   "source": []
  }
 ],
 "metadata": {
  "kernelspec": {
   "display_name": "Python 3 (ipykernel)",
   "language": "python",
   "name": "python3"
  },
  "language_info": {
   "codemirror_mode": {
    "name": "ipython",
    "version": 3
   },
   "file_extension": ".py",
   "mimetype": "text/x-python",
   "name": "python",
   "nbconvert_exporter": "python",
   "pygments_lexer": "ipython3",
   "version": "3.11.9"
  }
 },
 "nbformat": 4,
 "nbformat_minor": 5
}
