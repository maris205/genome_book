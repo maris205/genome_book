{
 "cells": [
  {
   "cell_type": "code",
   "execution_count": 3,
   "id": "41d975ba-6d2b-4f8c-9912-8f5f0cc3a226",
   "metadata": {},
   "outputs": [],
   "source": [
    "import json\n",
    "#读取第1层的数据\n",
    "json_str = open(\"p1_cluster_data_with_title_sentence.json\",\"r\").read()\n",
    "p1_cluster_data_with_title = json.loads(json_str)"
   ]
  },
  {
   "cell_type": "code",
   "execution_count": 4,
   "id": "c8d573e0-1065-42c5-8590-64a8dc2ff649",
   "metadata": {},
   "outputs": [],
   "source": [
    "import json\n",
    "#读取第2层的数据\n",
    "json_str = open(\"p2_cluster_data_with_title.json\",\"r\").read()\n",
    "p2_cluster_data_with_title = json.loads(json_str)"
   ]
  },
  {
   "cell_type": "code",
   "execution_count": 7,
   "id": "fbb4f922-2823-4fe8-a922-d79319bc46b1",
   "metadata": {},
   "outputs": [],
   "source": [
    "def print_chapter_section_list(chapter_section_list, markdown):\n",
    "    section_index = 1\n",
    "    for section in chapter_section_list:\n",
    "        section_title = section[\"title\"]\n",
    "        section_level = 2\n",
    "        #print( f\"{'#' * section_level} {section_title}\\n\\n\")\n",
    "        markdown +=  f\"{'#' * section_level} SECTION-{section_index} {section_title}\\n\\n\"\n",
    "\n",
    "        #输出每一个段落\n",
    "        para_sentence_list = section[\"para_sentence_list\"]\n",
    "        for para in para_sentence_list:\n",
    "            #print( f\"{para}\\n\\n\")  \n",
    "            markdown +=  f\"{para}\\n\\n\"\n",
    "\n",
    "        section_index = section_index + 1\n",
    "\n",
    "    return markdown"
   ]
  },
  {
   "cell_type": "code",
   "execution_count": 12,
   "id": "ce256b2e-4915-4e17-9bd5-07d92af93c02",
   "metadata": {},
   "outputs": [],
   "source": [
    "markdown = \"\"\n",
    "\n",
    "chapter_index = 1\n",
    "\n",
    "for item in p2_cluster_data_with_title:\n",
    "    chapter_title = item[\"title\"]\n",
    "    chapter_level = 1\n",
    "    #print( f\"{'#' * chapter_level} {chapter_title}\\n\\n\")\n",
    "    markdown += f\"{'#' * chapter_level} CHAPTER-{chapter_index} {chapter_title}\\n\\n\"\n",
    "    \n",
    "    chapter_section_index_list = item[\"para_list\"]\n",
    "    chapter_section_list = [p1_cluster_data_with_title[index] for index in chapter_section_index_list]\n",
    "\n",
    "    markdown = print_chapter_section_list(chapter_section_list, markdown)\n",
    "\n",
    "    chapter_index = chapter_index + 1\n",
    "    #break\n",
    "\n",
    "#print(markdown)"
   ]
  },
  {
   "cell_type": "code",
   "execution_count": 13,
   "id": "974e9ff9-abb3-4de3-aea7-5930499c72ba",
   "metadata": {},
   "outputs": [],
   "source": [
    "#写入文件\n",
    "filename = \"chromosome_1_part_1.md\"\n",
    "data_file = open(filename, \"w\")\n",
    "data_file.write(markdown)\n",
    "data_file.close()"
   ]
  },
  {
   "cell_type": "code",
   "execution_count": null,
   "id": "7d28430d-6a8a-4a3f-bc19-85e36b8252e4",
   "metadata": {},
   "outputs": [],
   "source": []
  }
 ],
 "metadata": {
  "kernelspec": {
   "display_name": "Python 3 (ipykernel)",
   "language": "python",
   "name": "python3"
  },
  "language_info": {
   "codemirror_mode": {
    "name": "ipython",
    "version": 3
   },
   "file_extension": ".py",
   "mimetype": "text/x-python",
   "name": "python",
   "nbconvert_exporter": "python",
   "pygments_lexer": "ipython3",
   "version": "3.11.9"
  }
 },
 "nbformat": 4,
 "nbformat_minor": 5
}
