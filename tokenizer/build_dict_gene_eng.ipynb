{
 "cells": [
  {
   "cell_type": "code",
   "execution_count": 1,
   "id": "197cafdc-aae9-4fb4-a8d8-90c7fa0d4d24",
   "metadata": {},
   "outputs": [
    {
     "name": "stdout",
     "output_type": "stream",
     "text": [
      "https://hf-mirror.com\n"
     ]
    }
   ],
   "source": [
    "import os\n",
    "\n",
    "# 设置环境变量\n",
    "os.environ['HF_ENDPOINT'] = 'https://hf-mirror.com'\n",
    "\n",
    "# 打印环境变量以确认设置成功\n",
    "print(os.environ.get('HF_ENDPOINT'))"
   ]
  },
  {
   "cell_type": "code",
   "execution_count": 2,
   "id": "345157f6-de17-43d9-a526-f3c3a949d61e",
   "metadata": {},
   "outputs": [
    {
     "name": "stdout",
     "output_type": "stream",
     "text": [
      "[16854, 16069, 67, 17387, 29706, 16149, 16641, 54, 15, 20, 43291, 37903, 16]\n",
      "['This', 'is', 'a', 'test', 'sentence', 'for', 'GP', 'T', '-', '2', 'token', 'izer', '.']\n"
     ]
    }
   ],
   "source": [
    "from tokenizers import Tokenizer\n",
    "\n",
    "# 加载分词器\n",
    "tokenizer = Tokenizer.from_file(\"gpt2_gene_eng_tokenizer.json\")\n",
    "\n",
    "# 测试分词\n",
    "text = \"This is a test sentence for GPT-2 tokenizer.\"\n",
    "tokens = tokenizer.encode(text)\n",
    "print(tokens.ids)  # 输出 token ID\n",
    "print(tokens.tokens)  # 输出 token"
   ]
  },
  {
   "cell_type": "code",
   "execution_count": 3,
   "id": "7b525323-1728-4a2d-9e21-508258e102ac",
   "metadata": {},
   "outputs": [
    {
     "name": "stdout",
     "output_type": "stream",
     "text": [
      "[16854, 16069, 17841, 17387, 29706, 16149, 16040, 43291, 37903, 16]\n"
     ]
    }
   ],
   "source": [
    "from transformers import PreTrainedTokenizerFast\n",
    "\n",
    "hf_tokenizer = PreTrainedTokenizerFast(\n",
    "    tokenizer_file=\"gpt2_gene_eng_tokenizer.json\",  # 加载训练好的分词器\n",
    "    eos_token=\"<|endoftext|>\",\n",
    "    pad_token=\"<pad>\",\n",
    "    unk_token=\"<unk>\"\n",
    ")\n",
    "\n",
    "# 测试分词器\n",
    "text = \"This is another test sentence for the tokenizer.\"\n",
    "print(hf_tokenizer.encode(text))"
   ]
  },
  {
   "cell_type": "code",
   "execution_count": 4,
   "id": "439f9b60-f7e1-4d85-ab9e-4c40d1cf1673",
   "metadata": {},
   "outputs": [
    {
     "data": {
      "text/plain": [
       "('gpt2_gene_eng_tokenizer/tokenizer_config.json',\n",
       " 'gpt2_gene_eng_tokenizer/special_tokens_map.json',\n",
       " 'gpt2_gene_eng_tokenizer/tokenizer.json')"
      ]
     },
     "execution_count": 4,
     "metadata": {},
     "output_type": "execute_result"
    }
   ],
   "source": [
    "hf_tokenizer.save_pretrained(\"gpt2_gene_eng_tokenizer\")"
   ]
  },
  {
   "cell_type": "code",
   "execution_count": 5,
   "id": "e42d2707-5b09-4177-8eda-2884cb846ade",
   "metadata": {},
   "outputs": [],
   "source": [
    "from transformers import AutoTokenizer\n",
    "tokenizer = AutoTokenizer.from_pretrained(\"gpt2_gene_eng_tokenizer\")"
   ]
  },
  {
   "cell_type": "code",
   "execution_count": 9,
   "id": "71365882-bc23-4585-8cdb-e1df83ff47ca",
   "metadata": {},
   "outputs": [
    {
     "data": {
      "text/plain": [
       "['This',\n",
       " 'is',\n",
       " 'a',\n",
       " 'test',\n",
       " 'sentence',\n",
       " 'for',\n",
       " 'GP',\n",
       " 'T',\n",
       " '-',\n",
       " '2',\n",
       " 'token',\n",
       " 'izer',\n",
       " '.']"
      ]
     },
     "execution_count": 9,
     "metadata": {},
     "output_type": "execute_result"
    }
   ],
   "source": [
    "tokenizer.tokenize(\"This is a test sentence for GPT-2 tokenizer.\")"
   ]
  },
  {
   "cell_type": "code",
   "execution_count": 7,
   "id": "b6bbbf7c-3667-4b53-a415-a4aa01f5e908",
   "metadata": {},
   "outputs": [
    {
     "data": {
      "text/plain": [
       "['ATAGG',\n",
       " 'AAAACTGTG',\n",
       " 'TATCAA',\n",
       " 'TGACG',\n",
       " 'TTTCTTGG',\n",
       " 'ATCAA',\n",
       " 'TGAC',\n",
       " 'TTTTCTTGG',\n",
       " 'ATACAGG']"
      ]
     },
     "execution_count": 7,
     "metadata": {},
     "output_type": "execute_result"
    }
   ],
   "source": [
    "tokenizer.tokenize(\"ATAGGAAAACTGTGTATCAATGACGTTTCTTGGATCAATGACTTTTCTTGGATACAGG\")"
   ]
  },
  {
   "cell_type": "code",
   "execution_count": 8,
   "id": "d74aa524-2e54-4c91-a247-3baa012b0cb3",
   "metadata": {},
   "outputs": [
    {
     "data": {
      "text/plain": [
       "['YP',\n",
       " 'TTL',\n",
       " 'ED',\n",
       " 'HFGG',\n",
       " 'SQRG',\n",
       " 'TSL',\n",
       " 'SAAAG',\n",
       " 'SAV',\n",
       " 'AI',\n",
       " 'ATGG',\n",
       " 'AGL',\n",
       " 'SGW',\n",
       " 'YL',\n",
       " 'CM',\n",
       " 'YVH',\n",
       " 'KE',\n",
       " 'ALG',\n",
       " 'RLGF',\n",
       " 'FG',\n",
       " 'YDL',\n",
       " 'QDQ',\n",
       " 'CG',\n",
       " 'ATVL',\n",
       " 'SYQ']"
      ]
     },
     "execution_count": 8,
     "metadata": {},
     "output_type": "execute_result"
    }
   ],
   "source": [
    "tokenizer.tokenize(\"YPTTLEDHFGGSQRGTSLSAAAGSAVAIATGGAGLSGWYLCMYVHKEALGRLGFFGYDLQDQCGATVLSYQ\")"
   ]
  },
  {
   "cell_type": "code",
   "execution_count": null,
   "id": "3d9e3f24-b2d8-40ca-9163-df1601e89ea1",
   "metadata": {},
   "outputs": [],
   "source": []
  }
 ],
 "metadata": {
  "kernelspec": {
   "display_name": "Python 3 (ipykernel)",
   "language": "python",
   "name": "python3"
  },
  "language_info": {
   "codemirror_mode": {
    "name": "ipython",
    "version": 3
   },
   "file_extension": ".py",
   "mimetype": "text/x-python",
   "name": "python",
   "nbconvert_exporter": "python",
   "pygments_lexer": "ipython3",
   "version": "3.12.3"
  }
 },
 "nbformat": 4,
 "nbformat_minor": 5
}
